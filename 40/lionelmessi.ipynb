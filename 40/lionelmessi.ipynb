{
 "cells": [
  {
   "cell_type": "code",
   "execution_count": 1,
   "metadata": {},
   "outputs": [],
   "source": [
    "import pandas as pd\n",
    "import matplotlib.pyplot as plt\n",
    "import numpy as np"
   ]
  },
  {
   "cell_type": "code",
   "execution_count": 2,
   "metadata": {},
   "outputs": [
    {
     "data": {
      "text/html": [
       "<div>\n",
       "<style scoped>\n",
       "    .dataframe tbody tr th:only-of-type {\n",
       "        vertical-align: middle;\n",
       "    }\n",
       "\n",
       "    .dataframe tbody tr th {\n",
       "        vertical-align: top;\n",
       "    }\n",
       "\n",
       "    .dataframe thead th {\n",
       "        text-align: right;\n",
       "    }\n",
       "</style>\n",
       "<table border=\"1\" class=\"dataframe\">\n",
       "  <thead>\n",
       "    <tr style=\"text-align: right;\">\n",
       "      <th></th>\n",
       "      <th>Date</th>\n",
       "      <th>Competition Name</th>\n",
       "      <th>Home team</th>\n",
       "      <th>Opponent</th>\n",
       "      <th>Away team</th>\n",
       "      <th>Minute</th>\n",
       "      <th>Score Home Team - When Messi Scored</th>\n",
       "      <th>Score Away Team - When Messi Scored</th>\n",
       "      <th>Goal Type</th>\n",
       "      <th>Goal Method</th>\n",
       "      <th>Final Game Result</th>\n",
       "    </tr>\n",
       "  </thead>\n",
       "  <tbody>\n",
       "    <tr>\n",
       "      <th>0</th>\n",
       "      <td>samedi 16 f�vrier 2019</td>\n",
       "      <td>Liga</td>\n",
       "      <td>FC Barcelona</td>\n",
       "      <td>Real Valladolid</td>\n",
       "      <td>Real Valladolid</td>\n",
       "      <td>43</td>\n",
       "      <td>1</td>\n",
       "      <td>0</td>\n",
       "      <td>Penalty</td>\n",
       "      <td>Left foot</td>\n",
       "      <td>Won</td>\n",
       "    </tr>\n",
       "    <tr>\n",
       "      <th>1</th>\n",
       "      <td>dimanche 13 janvier 2019</td>\n",
       "      <td>Liga</td>\n",
       "      <td>FC Barcelona</td>\n",
       "      <td>Eibar</td>\n",
       "      <td>Eibar</td>\n",
       "      <td>53</td>\n",
       "      <td>2</td>\n",
       "      <td>0</td>\n",
       "      <td>Field goal</td>\n",
       "      <td>Left foot</td>\n",
       "      <td>Won</td>\n",
       "    </tr>\n",
       "    <tr>\n",
       "      <th>2</th>\n",
       "      <td>samedi 22 d�cembre 2018</td>\n",
       "      <td>Liga</td>\n",
       "      <td>FC Barcelona</td>\n",
       "      <td>Celta de Vigo</td>\n",
       "      <td>Celta de Vigo</td>\n",
       "      <td>45</td>\n",
       "      <td>2</td>\n",
       "      <td>0</td>\n",
       "      <td>Field goal</td>\n",
       "      <td>Left foot</td>\n",
       "      <td>Won</td>\n",
       "    </tr>\n",
       "    <tr>\n",
       "      <th>3</th>\n",
       "      <td>samedi 20 octobre 2018</td>\n",
       "      <td>Liga</td>\n",
       "      <td>FC Barcelona</td>\n",
       "      <td>Sevilla</td>\n",
       "      <td>Sevilla</td>\n",
       "      <td>12</td>\n",
       "      <td>2</td>\n",
       "      <td>0</td>\n",
       "      <td>Field goal</td>\n",
       "      <td>Left foot</td>\n",
       "      <td>Won</td>\n",
       "    </tr>\n",
       "    <tr>\n",
       "      <th>4</th>\n",
       "      <td>dimanche 23 septembre 2018</td>\n",
       "      <td>Liga</td>\n",
       "      <td>FC Barcelona</td>\n",
       "      <td>Girona</td>\n",
       "      <td>Girona</td>\n",
       "      <td>19</td>\n",
       "      <td>1</td>\n",
       "      <td>0</td>\n",
       "      <td>Field goal</td>\n",
       "      <td>Left foot</td>\n",
       "      <td>Draw</td>\n",
       "    </tr>\n",
       "  </tbody>\n",
       "</table>\n",
       "</div>"
      ],
      "text/plain": [
       "                         Date Competition Name     Home team         Opponent  \\\n",
       "0      samedi 16 f�vrier 2019             Liga  FC Barcelona  Real Valladolid   \n",
       "1    dimanche 13 janvier 2019             Liga  FC Barcelona            Eibar   \n",
       "2     samedi 22 d�cembre 2018             Liga  FC Barcelona    Celta de Vigo   \n",
       "3      samedi 20 octobre 2018             Liga  FC Barcelona          Sevilla   \n",
       "4  dimanche 23 septembre 2018             Liga  FC Barcelona           Girona   \n",
       "\n",
       "         Away team Minute  Score Home Team - When Messi Scored  \\\n",
       "0  Real Valladolid     43                                    1   \n",
       "1            Eibar     53                                    2   \n",
       "2    Celta de Vigo     45                                    2   \n",
       "3          Sevilla     12                                    2   \n",
       "4           Girona     19                                    1   \n",
       "\n",
       "   Score Away Team - When Messi Scored   Goal Type Goal Method  \\\n",
       "0                                    0     Penalty   Left foot   \n",
       "1                                    0  Field goal   Left foot   \n",
       "2                                    0  Field goal   Left foot   \n",
       "3                                    0  Field goal   Left foot   \n",
       "4                                    0  Field goal   Left foot   \n",
       "\n",
       "  Final Game Result  \n",
       "0               Won  \n",
       "1               Won  \n",
       "2               Won  \n",
       "3               Won  \n",
       "4              Draw  "
      ]
     },
     "execution_count": 2,
     "metadata": {},
     "output_type": "execute_result"
    }
   ],
   "source": [
    "data=pd.read_csv(\"Lionel Messi Goals.csv\")\n",
    "data.head()"
   ]
  },
  {
   "attachments": {},
   "cell_type": "markdown",
   "metadata": {},
   "source": [
    "ستون تاریخ را پیش پردازش کنید و مقدار سال را بدست آورید. سپس تعداد گل های مسی در هر سال را بر روی نمودار نمایش دهید"
   ]
  },
  {
   "cell_type": "code",
   "execution_count": 3,
   "metadata": {},
   "outputs": [
    {
     "data": {
      "text/html": [
       "<div>\n",
       "<style scoped>\n",
       "    .dataframe tbody tr th:only-of-type {\n",
       "        vertical-align: middle;\n",
       "    }\n",
       "\n",
       "    .dataframe tbody tr th {\n",
       "        vertical-align: top;\n",
       "    }\n",
       "\n",
       "    .dataframe thead th {\n",
       "        text-align: right;\n",
       "    }\n",
       "</style>\n",
       "<table border=\"1\" class=\"dataframe\">\n",
       "  <thead>\n",
       "    <tr style=\"text-align: right;\">\n",
       "      <th></th>\n",
       "      <th>index</th>\n",
       "      <th>Date</th>\n",
       "      <th>count</th>\n",
       "    </tr>\n",
       "  </thead>\n",
       "  <tbody>\n",
       "    <tr>\n",
       "      <th>0</th>\n",
       "      <td>14</td>\n",
       "      <td>2005</td>\n",
       "      <td>3</td>\n",
       "    </tr>\n",
       "    <tr>\n",
       "      <th>1</th>\n",
       "      <td>13</td>\n",
       "      <td>2006</td>\n",
       "      <td>12</td>\n",
       "    </tr>\n",
       "    <tr>\n",
       "      <th>2</th>\n",
       "      <td>10</td>\n",
       "      <td>2007</td>\n",
       "      <td>31</td>\n",
       "    </tr>\n",
       "    <tr>\n",
       "      <th>3</th>\n",
       "      <td>11</td>\n",
       "      <td>2008</td>\n",
       "      <td>22</td>\n",
       "    </tr>\n",
       "    <tr>\n",
       "      <th>4</th>\n",
       "      <td>9</td>\n",
       "      <td>2009</td>\n",
       "      <td>41</td>\n",
       "    </tr>\n",
       "  </tbody>\n",
       "</table>\n",
       "</div>"
      ],
      "text/plain": [
       "   index  Date  count\n",
       "0     14  2005      3\n",
       "1     13  2006     12\n",
       "2     10  2007     31\n",
       "3     11  2008     22\n",
       "4      9  2009     41"
      ]
     },
     "execution_count": 3,
     "metadata": {},
     "output_type": "execute_result"
    }
   ],
   "source": [
    "data['Date']=data['Date'].str[-4:]\n",
    "df=data.value_counts('Date').reset_index()\n",
    "df=df.sort_values(by='Date',ascending=True).reset_index()\n",
    "df.head()\n"
   ]
  },
  {
   "cell_type": "code",
   "execution_count": 4,
   "metadata": {},
   "outputs": [
    {
     "data": {
      "image/png": "[encoded data removed]",
      "text/plain": [
       "<Figure size 1200x600 with 1 Axes>"
      ]
     },
     "metadata": {},
     "output_type": "display_data"
    }
   ],
   "source": [
    "plt.figure(figsize=(12,6))\n",
    "plt.bar(df['Date'],df['count'])\n",
    "plt.xlabel('Date')\n",
    "plt.ylabel('Total Goal')\n",
    "for i in range(len(df)):\n",
    "    plt.text(i,df['count'][i],df['count'][i])\n",
    "plt.grid()\n",
    "plt.show()"
   ]
  },
  {
   "attachments": {},
   "cell_type": "markdown",
   "metadata": {},
   "source": [
    "مسی اکثر پنالتی ها را با پای چپ زده است یا با پای راست؟ بر روی نمودار نمایش دهید"
   ]
  },
  {
   "cell_type": "code",
   "execution_count": 5,
   "metadata": {},
   "outputs": [
    {
     "data": {
      "text/html": [
       "<div>\n",
       "<style scoped>\n",
       "    .dataframe tbody tr th:only-of-type {\n",
       "        vertical-align: middle;\n",
       "    }\n",
       "\n",
       "    .dataframe tbody tr th {\n",
       "        vertical-align: top;\n",
       "    }\n",
       "\n",
       "    .dataframe thead th {\n",
       "        text-align: right;\n",
       "    }\n",
       "</style>\n",
       "<table border=\"1\" class=\"dataframe\">\n",
       "  <thead>\n",
       "    <tr style=\"text-align: right;\">\n",
       "      <th></th>\n",
       "      <th>Goal Method</th>\n",
       "      <th>count</th>\n",
       "    </tr>\n",
       "  </thead>\n",
       "  <tbody>\n",
       "    <tr>\n",
       "      <th>0</th>\n",
       "      <td>Left foot</td>\n",
       "      <td>82</td>\n",
       "    </tr>\n",
       "    <tr>\n",
       "      <th>1</th>\n",
       "      <td>Right foot</td>\n",
       "      <td>0</td>\n",
       "    </tr>\n",
       "  </tbody>\n",
       "</table>\n",
       "</div>"
      ],
      "text/plain": [
       "  Goal Method  count\n",
       "0   Left foot     82\n",
       "1  Right foot      0"
      ]
     },
     "execution_count": 5,
     "metadata": {},
     "output_type": "execute_result"
    }
   ],
   "source": [
    "data.rename(columns = {'Goal Type':'GoalType'}, inplace = True)\n",
    "df=data.query('GoalType==\"Penalty\"')\n",
    "df=df['Goal Method'].value_counts().reset_index()\n",
    "df.loc[1]=['Right foot',0]\n",
    "df"
   ]
  },
  {
   "cell_type": "code",
   "execution_count": 6,
   "metadata": {},
   "outputs": [
    {
     "data": {
      "image/png": "[encoded data removed]",
      "text/plain": [
       "<Figure size 400x600 with 1 Axes>"
      ]
     },
     "metadata": {},
     "output_type": "display_data"
    }
   ],
   "source": [
    "\n",
    "plt.figure(figsize=(4,6))\n",
    "plt.bar(df['Goal Method'],df['count'],width = 0.2)\n",
    "for i in range(len(df)):\n",
    "    plt.text(i,df['count'][i],df['count'][i])\n",
    "plt.ylabel('Number of Penalty')\n",
    "plt.show()"
   ]
  },
  {
   "attachments": {},
   "cell_type": "markdown",
   "metadata": {},
   "source": [
    "چند درصد بازی هایی که در آن ها مسی در وقت اضافه گل زده است، به پیروزی ختم شده اند؟ "
   ]
  },
  {
   "cell_type": "code",
   "execution_count": 7,
   "metadata": {},
   "outputs": [
    {
     "data": {
      "text/html": [
       "<div>\n",
       "<style scoped>\n",
       "    .dataframe tbody tr th:only-of-type {\n",
       "        vertical-align: middle;\n",
       "    }\n",
       "\n",
       "    .dataframe tbody tr th {\n",
       "        vertical-align: top;\n",
       "    }\n",
       "\n",
       "    .dataframe thead th {\n",
       "        text-align: right;\n",
       "    }\n",
       "</style>\n",
       "<table border=\"1\" class=\"dataframe\">\n",
       "  <thead>\n",
       "    <tr style=\"text-align: right;\">\n",
       "      <th></th>\n",
       "      <th>Final Game Result</th>\n",
       "      <th>count</th>\n",
       "    </tr>\n",
       "  </thead>\n",
       "  <tbody>\n",
       "    <tr>\n",
       "      <th>0</th>\n",
       "      <td>Won</td>\n",
       "      <td>35</td>\n",
       "    </tr>\n",
       "    <tr>\n",
       "      <th>1</th>\n",
       "      <td>Draw</td>\n",
       "      <td>3</td>\n",
       "    </tr>\n",
       "    <tr>\n",
       "      <th>2</th>\n",
       "      <td>Lost</td>\n",
       "      <td>2</td>\n",
       "    </tr>\n",
       "  </tbody>\n",
       "</table>\n",
       "</div>"
      ],
      "text/plain": [
       "  Final Game Result  count\n",
       "0               Won     35\n",
       "1              Draw      3\n",
       "2              Lost      2"
      ]
     },
     "execution_count": 7,
     "metadata": {},
     "output_type": "execute_result"
    }
   ],
   "source": [
    "data[\"Minute\"]=data[\"Minute\"].apply(eval)\n",
    "data[\"Minute\"]=data[\"Minute\"].astype(int)\n",
    "df=data.query('Minute>89')\n",
    "df=df['Final Game Result'].value_counts().reset_index()\n",
    "df.head()"
   ]
  },
  {
   "cell_type": "code",
   "execution_count": 8,
   "metadata": {},
   "outputs": [
    {
     "name": "stdout",
     "output_type": "stream",
     "text": [
      "percentage of games that messi team won when messis goal is in extra time: 0.875\n"
     ]
    },
    {
     "data": {
      "text/html": [
       "<div>\n",
       "<style scoped>\n",
       "    .dataframe tbody tr th:only-of-type {\n",
       "        vertical-align: middle;\n",
       "    }\n",
       "\n",
       "    .dataframe tbody tr th {\n",
       "        vertical-align: top;\n",
       "    }\n",
       "\n",
       "    .dataframe thead th {\n",
       "        text-align: right;\n",
       "    }\n",
       "</style>\n",
       "<table border=\"1\" class=\"dataframe\">\n",
       "  <thead>\n",
       "    <tr style=\"text-align: right;\">\n",
       "      <th></th>\n",
       "      <th>Final Game Result</th>\n",
       "      <th>count</th>\n",
       "      <th>Percent</th>\n",
       "    </tr>\n",
       "  </thead>\n",
       "  <tbody>\n",
       "    <tr>\n",
       "      <th>0</th>\n",
       "      <td>Won</td>\n",
       "      <td>35</td>\n",
       "      <td>0.875</td>\n",
       "    </tr>\n",
       "    <tr>\n",
       "      <th>1</th>\n",
       "      <td>Draw</td>\n",
       "      <td>3</td>\n",
       "      <td>0.075</td>\n",
       "    </tr>\n",
       "    <tr>\n",
       "      <th>2</th>\n",
       "      <td>Lost</td>\n",
       "      <td>2</td>\n",
       "      <td>0.050</td>\n",
       "    </tr>\n",
       "  </tbody>\n",
       "</table>\n",
       "</div>"
      ],
      "text/plain": [
       "  Final Game Result  count  Percent\n",
       "0               Won     35    0.875\n",
       "1              Draw      3    0.075\n",
       "2              Lost      2    0.050"
      ]
     },
     "execution_count": 8,
     "metadata": {},
     "output_type": "execute_result"
    }
   ],
   "source": [
    "\n",
    "df2=df.loc[df['Final Game Result'] == 'Won', 'count'].iloc[0]/df['count'].sum()\n",
    "df['Percent']=df['count']/df['count'].sum()\n",
    "print(f'percentage of games that messi team won when messis goal is in extra time: {df2}')\n",
    "df.head()\n"
   ]
  },
  {
   "cell_type": "code",
   "execution_count": 9,
   "metadata": {},
   "outputs": [
    {
     "data": {
      "image/png": "[encoded data removed]",
      "text/plain": [
       "<Figure size 600x600 with 1 Axes>"
      ]
     },
     "metadata": {},
     "output_type": "display_data"
    }
   ],
   "source": [
    "plt.figure(figsize=(6,6))\n",
    "plt.pie(df['Percent'],labels=df['Final Game Result'],autopct='%1.1f%%')\n",
    "plt.title(\"percentage of games that messis goal is in extra time\")\n",
    "plt.show()"
   ]
  },
  {
   "attachments": {},
   "cell_type": "markdown",
   "metadata": {},
   "source": [
    "چند درصد گل های مسی گل تساوی بوده است؟ "
   ]
  },
  {
   "cell_type": "code",
   "execution_count": 10,
   "metadata": {},
   "outputs": [
    {
     "name": "stdout",
     "output_type": "stream",
     "text": [
      "Percent of equal goal of messi: 8.6%\n"
     ]
    }
   ],
   "source": [
    "data.head()\n",
    "data.rename(columns = {'Home team':'Hometeam','Away team':'Awayteam','Score Away Team - When Messi Scored':'ScoreAwayTeamWhenMessiScored','Score Home Team - When Messi Scored':'ScoreHomeTeamWhenMessiScored'}, inplace = True)\n",
    "equal_goal=np.where(data.ScoreHomeTeamWhenMessiScored ==  data.ScoreAwayTeamWhenMessiScored )\n",
    "\n",
    "percent_goal=np.size(equal_goal)/len(data)\n",
    "percent_goal=round(percent_goal, 3)\n",
    "print(f'Percent of equal goal of messi: {percent_goal*100}%')\n"
   ]
  }
 ],
 "metadata": {
  "kernelspec": {
   "display_name": "Python 3",
   "language": "python",
   "name": "python3"
  },
  "language_info": {
   "codemirror_mode": {
    "name": "ipython",
    "version": 3
   },
   "file_extension": ".py",
   "mimetype": "text/x-python",
   "name": "python",
   "nbconvert_exporter": "python",
   "pygments_lexer": "ipython3",
   "version": "3.11.4"
  },
  "orig_nbformat": 4
 },
 "nbformat": 4,
 "nbformat_minor": 2
}
